{
 "cells": [
  {
   "cell_type": "markdown",
   "metadata": {},
   "source": [
    "## Function to change columns' type to datetime"
   ]
  },
  {
   "cell_type": "code",
   "execution_count": 26,
   "metadata": {},
   "outputs": [],
   "source": [
    "def columns_to_datetime(dataframe, columns):\n",
    "    \"\"\"\n",
    "    Change multiple columns' type into datetime\n",
    "    Arguments:\n",
    "        dataframe: input a pandas dataframe object\n",
    "        columns: a list of columns, list can be of length 1\n",
    "    Return:\n",
    "        no object return\n",
    "        the original dataframe is changed in the process\n",
    "        some strings will be printed to state the changes\n",
    "    \"\"\"\n",
    "    \n",
    "    # This function requires pandas\n",
    "    import pandas as pd\n",
    "    \n",
    "    # Function start here\n",
    "\n",
    "    for column in columns:\n",
    "        original_type = dataframe[column].dtype\n",
    "        dataframe[column] = pd.to_datetime(dataframe[column], errors = 'coerce')\n",
    "        print('The type of column {} is changed from \\'{}\\' to \\'{}\\''.format(column,\n",
    "                                                                      original_type,\n",
    "                                                                      dataframe[column].dtype))"
   ]
  },
  {
   "cell_type": "code",
   "execution_count": 28,
   "metadata": {},
   "outputs": [],
   "source": [
    "# import pandas as pd\n",
    "\n",
    "# test_file = pd.read_csv(\"./test2.csv\")\n",
    "\n",
    "# columns_to_datetime(test_file, ['Prod. Date', 'SLED/BBD'])\n",
    "\n",
    "# help(columns_to_datetime)"
   ]
  }
 ],
 "metadata": {
  "kernelspec": {
   "display_name": "Python 3",
   "language": "python",
   "name": "python3"
  },
  "language_info": {
   "codemirror_mode": {
    "name": "ipython",
    "version": 3
   },
   "file_extension": ".py",
   "mimetype": "text/x-python",
   "name": "python",
   "nbconvert_exporter": "python",
   "pygments_lexer": "ipython3",
   "version": "3.7.1"
  }
 },
 "nbformat": 4,
 "nbformat_minor": 2
}
