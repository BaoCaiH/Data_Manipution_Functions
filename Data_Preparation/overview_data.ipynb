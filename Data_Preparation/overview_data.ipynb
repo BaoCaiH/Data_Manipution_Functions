{
 "cells": [
  {
   "cell_type": "code",
   "execution_count": 1,
   "metadata": {},
   "outputs": [],
   "source": [
    "def overview_data(df):\n",
    "    \n",
    "    import pandas as pd\n",
    "    \n",
    "    df_summary = pd.DataFrame(data = df.columns, columns = ['Column'])\n",
    "    \n",
    "    df_summary['Type'] = None\n",
    "    df_summary['Examples'] = None\n",
    "    \n",
    "    for i in range(len(df_summary['Column'])):\n",
    "        df_summary['Type'][i] = df.iloc[:, i].dtype\n",
    "        df_summary['Examples'][i] = pd.unique(df.iloc[:, i])[:10]\n",
    "    \n",
    "    return df_summary"
   ]
  },
  {
   "cell_type": "code",
   "execution_count": 9,
   "metadata": {},
   "outputs": [],
   "source": [
    "# import pandas as pd\n",
    "# a = pd.read_csv('df_test.csv')\n",
    "# overview_data(a)"
   ]
  }
 ],
 "metadata": {
  "kernelspec": {
   "display_name": "Python 3",
   "language": "python",
   "name": "python3"
  },
  "language_info": {
   "codemirror_mode": {
    "name": "ipython",
    "version": 3
   },
   "file_extension": ".py",
   "mimetype": "text/x-python",
   "name": "python",
   "nbconvert_exporter": "python",
   "pygments_lexer": "ipython3",
   "version": "3.7.1"
  }
 },
 "nbformat": 4,
 "nbformat_minor": 2
}
