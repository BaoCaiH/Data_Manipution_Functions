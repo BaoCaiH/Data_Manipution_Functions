{
 "cells": [
  {
   "cell_type": "code",
   "execution_count": 1,
   "metadata": {},
   "outputs": [],
   "source": [
    "def summarise_zero(df_column):\n",
    "    '''\n",
    "    Return a pandas series consist of number of zeros figure in a chosen column and the portion of it in the data\n",
    "    Argument:\n",
    "        df_column: a pandas dataframe column, or a pandas series\n",
    "    '''\n",
    "    import pandas as pd\n",
    "    length = len(df_column)\n",
    "    n_zeros = sum(df_column == 0)\n",
    "    df_zero = pd.Series([n_zeros, n_zeros/length], index = ['n_zeros', 'zero_portion'])\n",
    "    return df_zero"
   ]
  },
  {
   "cell_type": "code",
   "execution_count": 2,
   "metadata": {},
   "outputs": [
    {
     "data": {
      "text/plain": [
       "n_zeros         206.000000\n",
       "zero_portion      0.004843\n",
       "dtype: float64"
      ]
     },
     "execution_count": 2,
     "metadata": {},
     "output_type": "execute_result"
    }
   ],
   "source": [
    "# import pandas as pd\n",
    "# a = pd.read_csv('df_test.csv')\n",
    "# summarise_zero(a.iloc[:, 11])"
   ]
  }
 ],
 "metadata": {
  "kernelspec": {
   "display_name": "Python 3",
   "language": "python",
   "name": "python3"
  },
  "language_info": {
   "codemirror_mode": {
    "name": "ipython",
    "version": 3
   },
   "file_extension": ".py",
   "mimetype": "text/x-python",
   "name": "python",
   "nbconvert_exporter": "python",
   "pygments_lexer": "ipython3",
   "version": "3.7.1"
  }
 },
 "nbformat": 4,
 "nbformat_minor": 2
}
