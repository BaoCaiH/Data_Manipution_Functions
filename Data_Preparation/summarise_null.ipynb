{
 "cells": [
  {
   "cell_type": "code",
   "execution_count": 69,
   "metadata": {},
   "outputs": [],
   "source": [
    "def summarise_null(df_column):\n",
    "    '''\n",
    "    Return a pandas series consist of number of null cells in a chosen column and\n",
    "    the portion of it in the data\n",
    "    Argument:\n",
    "        df_column: a pandas dataframe column, or a pandas series\n",
    "        \n",
    "    Children: overview_data\n",
    "    '''\n",
    "    import pandas as pd\n",
    "    length = len(df_column)\n",
    "    n_null = length - df_column.notnull().sum()\n",
    "    return pd.Series([n_null, n_null / length], index = ['n_null', 'null_portion'])"
   ]
  },
  {
   "cell_type": "code",
   "execution_count": 65,
   "metadata": {},
   "outputs": [],
   "source": [
    "# b = pd.Series([1,2,3,4,5,7,-1,-4,-6,10,-2,67,-70, 0])\n",
    "# summarise_null(b)"
   ]
  }
 ],
 "metadata": {
  "kernelspec": {
   "display_name": "Python 3",
   "language": "python",
   "name": "python3"
  },
  "language_info": {
   "codemirror_mode": {
    "name": "ipython",
    "version": 3
   },
   "file_extension": ".py",
   "mimetype": "text/x-python",
   "name": "python",
   "nbconvert_exporter": "python",
   "pygments_lexer": "ipython3",
   "version": "3.7.1"
  }
 },
 "nbformat": 4,
 "nbformat_minor": 2
}
