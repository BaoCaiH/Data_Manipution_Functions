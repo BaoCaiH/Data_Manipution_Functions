{
 "cells": [
  {
   "cell_type": "code",
   "execution_count": 64,
   "metadata": {},
   "outputs": [],
   "source": [
    "def summarise_negative(df_column):\n",
    "    '''\n",
    "    Return a pandas series consist of number of negative figures in a chosen column,\n",
    "    the portion of it in the data and its impact (portion of negative sum over positive sum)\n",
    "    Argument:\n",
    "        df_column: a pandas dataframe column, or a pandas series\n",
    "    '''\n",
    "    import pandas as pd\n",
    "    negative = pd.DataFrame(df_column.values, columns = ['col']).query('col < 0')\n",
    "    n_neg = len(negative)\n",
    "    abs_sum_neg = negative.sum().abs()[0]\n",
    "    positive = pd.DataFrame(df_column.values, columns = ['col']).query('col > 0')\n",
    "    n_pos = len(positive)\n",
    "    sum_pos = positive.sum()[0]\n",
    "    df_negative = pd.Series(data = {\n",
    "        'n_negatives' : n_neg,\n",
    "        'negative_portion' : n_neg / (n_neg + n_pos),\n",
    "        'abs_sum_portion' : (abs_sum_neg / sum_pos)\n",
    "    })\n",
    "    return df_negative"
   ]
  },
  {
   "cell_type": "code",
   "execution_count": 60,
   "metadata": {},
   "outputs": [
    {
     "data": {
      "text/plain": [
       "n_negative          5.000000\n",
       "negative_portion    0.384615\n",
       "abs_sum_portion     0.838384\n",
       "dtype: float64"
      ]
     },
     "execution_count": 60,
     "metadata": {},
     "output_type": "execute_result"
    }
   ],
   "source": [
    "# b = pd.Series([1,2,3,4,5,7,-1,-4,-6,10,-2,67,-70, 0])\n",
    "# summarise_negative(b)"
   ]
  }
 ],
 "metadata": {
  "kernelspec": {
   "display_name": "Python 3",
   "language": "python",
   "name": "python3"
  },
  "language_info": {
   "codemirror_mode": {
    "name": "ipython",
    "version": 3
   },
   "file_extension": ".py",
   "mimetype": "text/x-python",
   "name": "python",
   "nbconvert_exporter": "python",
   "pygments_lexer": "ipython3",
   "version": "3.7.1"
  }
 },
 "nbformat": 4,
 "nbformat_minor": 2
}
