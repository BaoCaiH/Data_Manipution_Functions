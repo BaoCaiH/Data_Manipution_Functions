{
 "cells": [
  {
   "cell_type": "markdown",
   "metadata": {},
   "source": [
    "## Function for reading csv file with specified column type"
   ]
  },
  {
   "cell_type": "code",
   "execution_count": 199,
   "metadata": {},
   "outputs": [],
   "source": [
    "def read_csv_conf_type(path_to_file, header = 0, sep = ','):\n",
    "    \"\"\"\n",
    "    Read a csv file or text file with a specific delimiter and separation, such as \\ or /\n",
    "    Arguments:\n",
    "        path_to_file: relative path to the python file, in string\n",
    "        header: the location of the row which will be used as the column's name, default 0\n",
    "        sep: separation of columns in the text file, default is comma, as in csv\n",
    "    \n",
    "    Return:\n",
    "        Print a string pasted in readable form for editability\n",
    "        Copy and paste the string in the console or jupyter notebook\n",
    "        Edit the type if needed\n",
    "    \"\"\"\n",
    "    # This function require pandas\n",
    "    import pandas as pd\n",
    "    \n",
    "    # Read the file into the function environment\n",
    "    file = pd.read_csv(path_to_file)\n",
    "    \n",
    "    # Find the indentation for the column name\n",
    "    indent = file.columns.map(lambda column : len(column)).max()\n",
    "    \n",
    "    # Prepare the read statement\n",
    "    read_statement = ''\n",
    "    read_statement += 'pd.read_csv(\\'' + path_to_file + '\\',\\n' +\\\n",
    "                      '            header = 0,\\n' +\\\n",
    "                      '            sep = \\',\\',\\n' +\\\n",
    "                      '            dtype = {\\n'\n",
    "    \n",
    "    # Loop  through the columns and return the type\n",
    "    for column in file.columns:\n",
    "        if 'float' in str(file[column].dtype):\n",
    "            py_type = 'float'\n",
    "        elif 'int' in str(file[column].dtype):\n",
    "            py_type = 'int'\n",
    "        elif 'bool' in str(file[column].dtype):\n",
    "            py_type = 'bool'\n",
    "        else:\n",
    "            py_type = 'str'\n",
    "            \n",
    "        read_statement += '                      ' +\\\n",
    "                          '\\'' + column.ljust(indent) + '\\'' + ' : ' + py_type +\\\n",
    "                          ',\\n'\n",
    "    \n",
    "    # End the read statement\n",
    "    read_statement += '                      }\\n' +\\\n",
    "                      '           )'\n",
    "    print(read_statement)"
   ]
  },
  {
   "cell_type": "code",
   "execution_count": 213,
   "metadata": {},
   "outputs": [],
   "source": [
    "# read_csv_conf_type('./test2.csv')\n",
    "\n",
    "# file = pd.read_csv('./test2.csv',\n",
    "#             header = 0,\n",
    "#             sep = ',',\n",
    "#             dtype = {\n",
    "#                       'Delivery     ' : int,\n",
    "#                       '  Item       ' : int,\n",
    "#                       'Material     ' : float,\n",
    "#                       '    Dlv.qty  ' : float,\n",
    "#                       'BUn          ' : str,\n",
    "#                       'SU           ' : str,\n",
    "#                       'Numerator    ' : int,\n",
    "#                       'Denominatr   ' : int,\n",
    "#                       '        Net  ' : float,\n",
    "#                       '      Gross  ' : float,\n",
    "#                       'Un.          ' : str,\n",
    "#                       '    Dlv.qty.1' : float,\n",
    "#                       'Description  ' : str,\n",
    "#                       'Ref.doc.     ' : float,\n",
    "#                       'RefItm       ' : float,\n",
    "#                       'SOff.        ' : float,\n",
    "#                       'Prod. Date   ' : str,\n",
    "#                       'SLED/BBD     ' : str,\n",
    "#                       }\n",
    "#            )"
   ]
  }
 ],
 "metadata": {
  "kernelspec": {
   "display_name": "Python 3",
   "language": "python",
   "name": "python3"
  },
  "language_info": {
   "codemirror_mode": {
    "name": "ipython",
    "version": 3
   },
   "file_extension": ".py",
   "mimetype": "text/x-python",
   "name": "python",
   "nbconvert_exporter": "python",
   "pygments_lexer": "ipython3",
   "version": "3.7.1"
  }
 },
 "nbformat": 4,
 "nbformat_minor": 2
}
