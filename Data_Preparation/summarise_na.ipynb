{
 "cells": [
  {
   "cell_type": "code",
   "execution_count": 67,
   "metadata": {},
   "outputs": [],
   "source": [
    "def summarise_na(df_column):\n",
    "    '''\n",
    "    Return a pandas series consist of number of na cells in a chosen column and\n",
    "    the portion of it in the data\n",
    "    Argument:\n",
    "        df_column: a pandas dataframe column, or a pandas series\n",
    "    \n",
    "    Children: overview_data\n",
    "    '''\n",
    "    import pandas as pd\n",
    "    length = len(df_column)\n",
    "    n_na = length - df_column.notna().sum()\n",
    "    return pd.Series([n_na, n_na / length], index = ['n_na', 'na_portion'])"
   ]
  },
  {
   "cell_type": "code",
   "execution_count": 65,
   "metadata": {},
   "outputs": [],
   "source": [
    "b = pd.Series([1,2,3,4,5,7,-1,-4,-6,10,-2,67,-70, 0])\n",
    "# summarise_negative(b)"
   ]
  },
  {
   "cell_type": "code",
   "execution_count": 68,
   "metadata": {},
   "outputs": [
    {
     "data": {
      "text/plain": [
       "n_na          0.0\n",
       "na_portion    0.0\n",
       "dtype: float64"
      ]
     },
     "execution_count": 68,
     "metadata": {},
     "output_type": "execute_result"
    }
   ],
   "source": [
    "summarise_na(b)"
   ]
  }
 ],
 "metadata": {
  "kernelspec": {
   "display_name": "Python 3",
   "language": "python",
   "name": "python3"
  },
  "language_info": {
   "codemirror_mode": {
    "name": "ipython",
    "version": 3
   },
   "file_extension": ".py",
   "mimetype": "text/x-python",
   "name": "python",
   "nbconvert_exporter": "python",
   "pygments_lexer": "ipython3",
   "version": "3.7.1"
  }
 },
 "nbformat": 4,
 "nbformat_minor": 2
}
